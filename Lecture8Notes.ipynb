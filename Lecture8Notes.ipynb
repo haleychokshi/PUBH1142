{
 "cells": [
  {
   "cell_type": "markdown",
   "metadata": {},
   "source": [
    "## Lecture 8 Homework"
   ]
  },
  {
   "cell_type": "code",
   "execution_count": 7,
   "metadata": {},
   "outputs": [],
   "source": [
    "# packages in the notebook \n",
    "\n",
    "import pandas as pd # Package to work with data\n",
    "\n",
    "import numpy as np # Numerical analysis package"
   ]
  },
  {
   "cell_type": "code",
   "execution_count": 2,
   "metadata": {},
   "outputs": [],
   "source": [
    "# Data in jupyter notebook uses the function \"read_csv\" to read data. This is in pandas\n",
    "\n",
    "# df = pd.read_csv('data.csv')"
   ]
  },
  {
   "cell_type": "code",
   "execution_count": 8,
   "metadata": {},
   "outputs": [],
   "source": [
    "# you can also use github to import data, all you need to add is the raw data url\n",
    "\n",
    "df = pd.read_csv('https://raw.githubusercontent.com/juanklopper/TutorialData/main/PUBH1142Chap0801.csv')"
   ]
  },
  {
   "cell_type": "code",
   "execution_count": 10,
   "metadata": {},
   "outputs": [
    {
     "data": {
      "text/plain": [
       "pandas.core.frame.DataFrame"
      ]
     },
     "execution_count": 10,
     "metadata": {},
     "output_type": "execute_result"
    }
   ],
   "source": [
    "# type of dataframe\n",
    "\n",
    "type(df)"
   ]
  },
  {
   "cell_type": "code",
   "execution_count": 15,
   "metadata": {},
   "outputs": [
    {
     "data": {
      "text/plain": [
       "['Age',\n",
       " 'CholesterolAfter',\n",
       " 'CholesterolBefore',\n",
       " 'DOB',\n",
       " 'Delta',\n",
       " 'Group',\n",
       " 'HR',\n",
       " 'Name',\n",
       " 'Smoke',\n",
       " 'Survey',\n",
       " 'T',\n",
       " 'TAG',\n",
       " 'Vocation',\n",
       " '_AXIS_LEN',\n",
       " '_AXIS_ORDERS',\n",
       " '_AXIS_TO_AXIS_NUMBER',\n",
       " '_HANDLED_TYPES',\n",
       " '__abs__',\n",
       " '__add__',\n",
       " '__and__']"
      ]
     },
     "execution_count": 15,
     "metadata": {},
     "output_type": "execute_result"
    }
   ],
   "source": [
    "# the function \"dir\" prints out the methods and attributes of the data\n",
    "\n",
    "dir(df)[:20]"
   ]
  },
  {
   "cell_type": "code",
   "execution_count": 18,
   "metadata": {},
   "outputs": [
    {
     "data": {
      "text/html": [
       "<div>\n",
       "<style scoped>\n",
       "    .dataframe tbody tr th:only-of-type {\n",
       "        vertical-align: middle;\n",
       "    }\n",
       "\n",
       "    .dataframe tbody tr th {\n",
       "        vertical-align: top;\n",
       "    }\n",
       "\n",
       "    .dataframe thead th {\n",
       "        text-align: right;\n",
       "    }\n",
       "</style>\n",
       "<table border=\"1\" class=\"dataframe\">\n",
       "  <thead>\n",
       "    <tr style=\"text-align: right;\">\n",
       "      <th></th>\n",
       "      <th>Name</th>\n",
       "      <th>DOB</th>\n",
       "      <th>Age</th>\n",
       "      <th>Vocation</th>\n",
       "      <th>Smoke</th>\n",
       "      <th>HR</th>\n",
       "      <th>sBP</th>\n",
       "      <th>CholesterolBefore</th>\n",
       "      <th>TAG</th>\n",
       "      <th>Survey</th>\n",
       "      <th>CholesterolAfter</th>\n",
       "      <th>Delta</th>\n",
       "      <th>Group</th>\n",
       "    </tr>\n",
       "  </thead>\n",
       "  <tbody>\n",
       "    <tr>\n",
       "      <th>0</th>\n",
       "      <td>Dylan Patton</td>\n",
       "      <td>1981-10-07</td>\n",
       "      <td>43</td>\n",
       "      <td>Energy manager</td>\n",
       "      <td>0</td>\n",
       "      <td>47</td>\n",
       "      <td>145</td>\n",
       "      <td>1.2</td>\n",
       "      <td>1.2</td>\n",
       "      <td>1</td>\n",
       "      <td>0.7</td>\n",
       "      <td>0.5</td>\n",
       "      <td>Active</td>\n",
       "    </tr>\n",
       "    <tr>\n",
       "      <th>1</th>\n",
       "      <td>Sandra Howard</td>\n",
       "      <td>1993-01-27</td>\n",
       "      <td>53</td>\n",
       "      <td>Tax adviser</td>\n",
       "      <td>0</td>\n",
       "      <td>51</td>\n",
       "      <td>115</td>\n",
       "      <td>1.2</td>\n",
       "      <td>0.6</td>\n",
       "      <td>3</td>\n",
       "      <td>1.0</td>\n",
       "      <td>0.2</td>\n",
       "      <td>Active</td>\n",
       "    </tr>\n",
       "    <tr>\n",
       "      <th>2</th>\n",
       "      <td>Samantha Williams</td>\n",
       "      <td>1973-12-21</td>\n",
       "      <td>33</td>\n",
       "      <td>IT consultant</td>\n",
       "      <td>0</td>\n",
       "      <td>54</td>\n",
       "      <td>120</td>\n",
       "      <td>2.0</td>\n",
       "      <td>1.3</td>\n",
       "      <td>3</td>\n",
       "      <td>1.7</td>\n",
       "      <td>0.3</td>\n",
       "      <td>Active</td>\n",
       "    </tr>\n",
       "    <tr>\n",
       "      <th>3</th>\n",
       "      <td>Ashley Hensley</td>\n",
       "      <td>1981-12-01</td>\n",
       "      <td>43</td>\n",
       "      <td>Nurse, children's</td>\n",
       "      <td>0</td>\n",
       "      <td>54</td>\n",
       "      <td>103</td>\n",
       "      <td>2.1</td>\n",
       "      <td>1.6</td>\n",
       "      <td>4</td>\n",
       "      <td>2.1</td>\n",
       "      <td>0.0</td>\n",
       "      <td>Active</td>\n",
       "    </tr>\n",
       "    <tr>\n",
       "      <th>4</th>\n",
       "      <td>Robert Wilson</td>\n",
       "      <td>1964-06-23</td>\n",
       "      <td>46</td>\n",
       "      <td>Clinical embryologist</td>\n",
       "      <td>0</td>\n",
       "      <td>61</td>\n",
       "      <td>138</td>\n",
       "      <td>2.8</td>\n",
       "      <td>2.1</td>\n",
       "      <td>5</td>\n",
       "      <td>2.8</td>\n",
       "      <td>0.0</td>\n",
       "      <td>Active</td>\n",
       "    </tr>\n",
       "  </tbody>\n",
       "</table>\n",
       "</div>"
      ],
      "text/plain": [
       "                Name         DOB  Age               Vocation  Smoke  HR  sBP  \\\n",
       "0       Dylan Patton  1981-10-07   43         Energy manager      0  47  145   \n",
       "1      Sandra Howard  1993-01-27   53            Tax adviser      0  51  115   \n",
       "2  Samantha Williams  1973-12-21   33          IT consultant      0  54  120   \n",
       "3     Ashley Hensley  1981-12-01   43      Nurse, children's      0  54  103   \n",
       "4      Robert Wilson  1964-06-23   46  Clinical embryologist      0  61  138   \n",
       "\n",
       "   CholesterolBefore  TAG  Survey  CholesterolAfter  Delta   Group  \n",
       "0                1.2  1.2       1               0.7    0.5  Active  \n",
       "1                1.2  0.6       3               1.0    0.2  Active  \n",
       "2                2.0  1.3       3               1.7    0.3  Active  \n",
       "3                2.1  1.6       4               2.1    0.0  Active  \n",
       "4                2.8  2.1       5               2.8    0.0  Active  "
      ]
     },
     "execution_count": 18,
     "metadata": {},
     "output_type": "execute_result"
    }
   ],
   "source": [
    "# the \"head\" function will print the first 5 rows of the dataframe \n",
    "\n",
    "df.head()"
   ]
  },
  {
   "cell_type": "code",
   "execution_count": 19,
   "metadata": {},
   "outputs": [
    {
     "data": {
      "text/plain": [
       "(200, 13)"
      ]
     },
     "execution_count": 19,
     "metadata": {},
     "output_type": "execute_result"
    }
   ],
   "source": [
    "# the \"shape\" attribute will show the number of rows and columns \n",
    "# it's an attribute so no need for the parenthsis \n",
    "# the shape attribute will return a tuple \n",
    "\n",
    "df.shape"
   ]
  },
  {
   "cell_type": "code",
   "execution_count": 21,
   "metadata": {},
   "outputs": [
    {
     "data": {
      "text/plain": [
       "Index(['Name', 'DOB', 'Age', 'Vocation', 'Smoke', 'HR', 'sBP',\n",
       "       'CholesterolBefore', 'TAG', 'Survey', 'CholesterolAfter', 'Delta',\n",
       "       'Group'],\n",
       "      dtype='object')"
      ]
     },
     "execution_count": 21,
     "metadata": {},
     "output_type": "execute_result"
    }
   ],
   "source": [
    "# print out the columns\n",
    "\n",
    "df.columns"
   ]
  },
  {
   "cell_type": "code",
   "execution_count": 22,
   "metadata": {},
   "outputs": [
    {
     "data": {
      "text/plain": [
       "2"
      ]
     },
     "execution_count": 22,
     "metadata": {},
     "output_type": "execute_result"
    }
   ],
   "source": [
    "# print out the dimensions of the data\n",
    "\n",
    "df.ndim"
   ]
  },
  {
   "cell_type": "code",
   "execution_count": 23,
   "metadata": {},
   "outputs": [
    {
     "data": {
      "text/plain": [
       "2600"
      ]
     },
     "execution_count": 23,
     "metadata": {},
     "output_type": "execute_result"
    }
   ],
   "source": [
    "# print the size of the dataframe or the total number of data points\n",
    "\n",
    "df.size"
   ]
  },
  {
   "cell_type": "code",
   "execution_count": 24,
   "metadata": {},
   "outputs": [
    {
     "data": {
      "text/plain": [
       "Name                  object\n",
       "DOB                   object\n",
       "Age                    int64\n",
       "Vocation              object\n",
       "Smoke                  int64\n",
       "HR                     int64\n",
       "sBP                    int64\n",
       "CholesterolBefore    float64\n",
       "TAG                  float64\n",
       "Survey                 int64\n",
       "CholesterolAfter     float64\n",
       "Delta                float64\n",
       "Group                 object\n",
       "dtype: object"
      ]
     },
     "execution_count": 24,
     "metadata": {},
     "output_type": "execute_result"
    }
   ],
   "source": [
    "# the dtype attribute will return all the data types of the values in each column \n",
    "# SUPER IMPORTANT STEP because this will help you clean up data\n",
    "# catagorical variables are denoted as \"object\" types\n",
    "df.dtypes"
   ]
  },
  {
   "cell_type": "code",
   "execution_count": 25,
   "metadata": {},
   "outputs": [],
   "source": [
    "# now you have all the information and data, but what if you want to look at a specific row or column?\n",
    "# extract one column\n",
    "\n",
    "age_column = df['Age']"
   ]
  },
  {
   "cell_type": "code",
   "execution_count": 27,
   "metadata": {},
   "outputs": [
    {
     "data": {
      "text/plain": [
       "0    43\n",
       "1    53\n",
       "2    33\n",
       "3    43\n",
       "4    46\n",
       "Name: Age, dtype: int64"
      ]
     },
     "execution_count": 27,
     "metadata": {},
     "output_type": "execute_result"
    }
   ],
   "source": [
    "age_column = df.Age\n",
    "age_column.head()"
   ]
  },
  {
   "cell_type": "code",
   "execution_count": 28,
   "metadata": {},
   "outputs": [],
   "source": [
    "age = age_column.to_numpy()"
   ]
  },
  {
   "cell_type": "code",
   "execution_count": 32,
   "metadata": {},
   "outputs": [
    {
     "data": {
      "text/plain": [
       "array([43, 53, 33, 43, 46, 48, 54, 58, 44, 31, 45, 35, 49, 56, 57, 38, 35,\n",
       "       50, 45, 49, 63, 45, 51, 43, 31, 58, 40, 47, 45, 41, 47, 38, 54, 30,\n",
       "       46, 64, 41, 40, 45, 65, 74, 55, 58, 53, 68, 54, 72, 32, 38, 59, 53,\n",
       "       69, 42, 67, 38, 51, 37, 36, 34, 38, 31, 48, 49, 62, 39, 74, 41, 42,\n",
       "       60, 67, 42, 74, 52, 37, 61, 54, 72, 36, 49, 47, 49, 49, 69, 43, 38,\n",
       "       60, 45, 71, 65, 73, 60, 70, 45, 49, 65, 53, 30, 58, 50, 69, 72, 61,\n",
       "       33, 30, 44, 71, 49, 75, 43, 35, 55, 38, 36, 46, 60, 40, 57, 69, 56,\n",
       "       66, 60, 42, 49, 68, 32, 31, 56, 35, 63, 54, 68, 72, 40, 41, 66, 73,\n",
       "       36, 54, 57, 74, 48, 72, 54, 71, 42, 54, 66, 58, 60, 63, 44, 55, 73,\n",
       "       55, 40, 43, 71, 54, 61, 55, 67, 55, 68, 71, 54, 42, 53, 69, 57, 45,\n",
       "       62, 33, 74, 74, 64, 43, 35, 57, 64, 55, 74, 50, 40, 62, 65, 63, 68,\n",
       "       45, 41, 54, 62, 65, 72, 61, 70, 66, 54, 61, 65, 66])"
      ]
     },
     "execution_count": 32,
     "metadata": {},
     "output_type": "execute_result"
    }
   ],
   "source": [
    "# an array is like a list on steroids, there is so much you can do \n",
    "type(age)\n",
    "age"
   ]
  },
  {
   "cell_type": "code",
   "execution_count": 33,
   "metadata": {},
   "outputs": [
    {
     "data": {
      "text/plain": [
       "53.07"
      ]
     },
     "execution_count": 33,
     "metadata": {},
     "output_type": "execute_result"
    }
   ],
   "source": [
    "# calculate the average of the column using \"mean\" funtion\n",
    "age_column.mean()"
   ]
  },
  {
   "cell_type": "code",
   "execution_count": 34,
   "metadata": {},
   "outputs": [
    {
     "data": {
      "text/plain": [
       "count    200.000000\n",
       "mean      53.070000\n",
       "std       12.553207\n",
       "min       30.000000\n",
       "25%       43.000000\n",
       "50%       54.000000\n",
       "75%       64.000000\n",
       "max       75.000000\n",
       "Name: Age, dtype: float64"
      ]
     },
     "execution_count": 34,
     "metadata": {},
     "output_type": "execute_result"
    }
   ],
   "source": [
    "age_column.describe()"
   ]
  },
  {
   "cell_type": "code",
   "execution_count": 35,
   "metadata": {},
   "outputs": [
    {
     "data": {
      "text/plain": [
       "Name                   Dylan Patton\n",
       "DOB                      1981-10-07\n",
       "Age                              43\n",
       "Vocation             Energy manager\n",
       "Smoke                             0\n",
       "HR                               47\n",
       "sBP                             145\n",
       "CholesterolBefore               1.2\n",
       "TAG                             1.2\n",
       "Survey                            1\n",
       "CholesterolAfter                0.7\n",
       "Delta                           0.5\n",
       "Group                        Active\n",
       "Name: 0, dtype: object"
      ]
     },
     "execution_count": 35,
     "metadata": {},
     "output_type": "execute_result"
    }
   ],
   "source": [
    "# idoc is integer location, it will show the data for a specific index\n",
    "df.iloc[0]"
   ]
  },
  {
   "cell_type": "code",
   "execution_count": 37,
   "metadata": {},
   "outputs": [
    {
     "data": {
      "text/html": [
       "<div>\n",
       "<style scoped>\n",
       "    .dataframe tbody tr th:only-of-type {\n",
       "        vertical-align: middle;\n",
       "    }\n",
       "\n",
       "    .dataframe tbody tr th {\n",
       "        vertical-align: top;\n",
       "    }\n",
       "\n",
       "    .dataframe thead th {\n",
       "        text-align: right;\n",
       "    }\n",
       "</style>\n",
       "<table border=\"1\" class=\"dataframe\">\n",
       "  <thead>\n",
       "    <tr style=\"text-align: right;\">\n",
       "      <th></th>\n",
       "      <th>Name</th>\n",
       "      <th>DOB</th>\n",
       "      <th>Age</th>\n",
       "      <th>Vocation</th>\n",
       "      <th>Smoke</th>\n",
       "      <th>HR</th>\n",
       "      <th>sBP</th>\n",
       "      <th>CholesterolBefore</th>\n",
       "      <th>TAG</th>\n",
       "      <th>Survey</th>\n",
       "      <th>CholesterolAfter</th>\n",
       "      <th>Delta</th>\n",
       "      <th>Group</th>\n",
       "    </tr>\n",
       "  </thead>\n",
       "  <tbody>\n",
       "    <tr>\n",
       "      <th>1</th>\n",
       "      <td>Sandra Howard</td>\n",
       "      <td>1993-01-27</td>\n",
       "      <td>53</td>\n",
       "      <td>Tax adviser</td>\n",
       "      <td>0</td>\n",
       "      <td>51</td>\n",
       "      <td>115</td>\n",
       "      <td>1.2</td>\n",
       "      <td>0.6</td>\n",
       "      <td>3</td>\n",
       "      <td>1.0</td>\n",
       "      <td>0.2</td>\n",
       "      <td>Active</td>\n",
       "    </tr>\n",
       "    <tr>\n",
       "      <th>4</th>\n",
       "      <td>Robert Wilson</td>\n",
       "      <td>1964-06-23</td>\n",
       "      <td>46</td>\n",
       "      <td>Clinical embryologist</td>\n",
       "      <td>0</td>\n",
       "      <td>61</td>\n",
       "      <td>138</td>\n",
       "      <td>2.8</td>\n",
       "      <td>2.1</td>\n",
       "      <td>5</td>\n",
       "      <td>2.8</td>\n",
       "      <td>0.0</td>\n",
       "      <td>Active</td>\n",
       "    </tr>\n",
       "    <tr>\n",
       "      <th>6</th>\n",
       "      <td>Frank Zimmerman</td>\n",
       "      <td>1981-03-04</td>\n",
       "      <td>54</td>\n",
       "      <td>Police officer</td>\n",
       "      <td>0</td>\n",
       "      <td>60</td>\n",
       "      <td>129</td>\n",
       "      <td>2.9</td>\n",
       "      <td>2.4</td>\n",
       "      <td>1</td>\n",
       "      <td>2.6</td>\n",
       "      <td>0.3</td>\n",
       "      <td>Active</td>\n",
       "    </tr>\n",
       "  </tbody>\n",
       "</table>\n",
       "</div>"
      ],
      "text/plain": [
       "              Name         DOB  Age               Vocation  Smoke  HR  sBP  \\\n",
       "1    Sandra Howard  1993-01-27   53            Tax adviser      0  51  115   \n",
       "4    Robert Wilson  1964-06-23   46  Clinical embryologist      0  61  138   \n",
       "6  Frank Zimmerman  1981-03-04   54         Police officer      0  60  129   \n",
       "\n",
       "   CholesterolBefore  TAG  Survey  CholesterolAfter  Delta   Group  \n",
       "1                1.2  0.6       3               1.0    0.2  Active  \n",
       "4                2.8  2.1       5               2.8    0.0  Active  \n",
       "6                2.9  2.4       1               2.6    0.3  Active  "
      ]
     },
     "execution_count": 37,
     "metadata": {},
     "output_type": "execute_result"
    }
   ],
   "source": [
    "df.iloc[[1, 4, 6]]"
   ]
  },
  {
   "cell_type": "code",
   "execution_count": 42,
   "metadata": {},
   "outputs": [
    {
     "data": {
      "text/html": [
       "<div>\n",
       "<style scoped>\n",
       "    .dataframe tbody tr th:only-of-type {\n",
       "        vertical-align: middle;\n",
       "    }\n",
       "\n",
       "    .dataframe tbody tr th {\n",
       "        vertical-align: top;\n",
       "    }\n",
       "\n",
       "    .dataframe thead th {\n",
       "        text-align: right;\n",
       "    }\n",
       "</style>\n",
       "<table border=\"1\" class=\"dataframe\">\n",
       "  <thead>\n",
       "    <tr style=\"text-align: right;\">\n",
       "      <th></th>\n",
       "      <th>Name</th>\n",
       "      <th>DOB</th>\n",
       "      <th>Age</th>\n",
       "      <th>Vocation</th>\n",
       "      <th>Smoke</th>\n",
       "      <th>HR</th>\n",
       "      <th>sBP</th>\n",
       "      <th>CholesterolBefore</th>\n",
       "      <th>TAG</th>\n",
       "      <th>Survey</th>\n",
       "      <th>CholesterolAfter</th>\n",
       "      <th>Delta</th>\n",
       "      <th>Group</th>\n",
       "    </tr>\n",
       "  </thead>\n",
       "  <tbody>\n",
       "    <tr>\n",
       "      <th>0</th>\n",
       "      <td>Dylan Patton</td>\n",
       "      <td>1981-10-07</td>\n",
       "      <td>43</td>\n",
       "      <td>Energy manager</td>\n",
       "      <td>0</td>\n",
       "      <td>47</td>\n",
       "      <td>145</td>\n",
       "      <td>1.2</td>\n",
       "      <td>1.2</td>\n",
       "      <td>1</td>\n",
       "      <td>0.7</td>\n",
       "      <td>0.5</td>\n",
       "      <td>Active</td>\n",
       "    </tr>\n",
       "    <tr>\n",
       "      <th>1</th>\n",
       "      <td>Sandra Howard</td>\n",
       "      <td>1993-01-27</td>\n",
       "      <td>53</td>\n",
       "      <td>Tax adviser</td>\n",
       "      <td>0</td>\n",
       "      <td>51</td>\n",
       "      <td>115</td>\n",
       "      <td>1.2</td>\n",
       "      <td>0.6</td>\n",
       "      <td>3</td>\n",
       "      <td>1.0</td>\n",
       "      <td>0.2</td>\n",
       "      <td>Active</td>\n",
       "    </tr>\n",
       "    <tr>\n",
       "      <th>2</th>\n",
       "      <td>Samantha Williams</td>\n",
       "      <td>1973-12-21</td>\n",
       "      <td>33</td>\n",
       "      <td>IT consultant</td>\n",
       "      <td>0</td>\n",
       "      <td>54</td>\n",
       "      <td>120</td>\n",
       "      <td>2.0</td>\n",
       "      <td>1.3</td>\n",
       "      <td>3</td>\n",
       "      <td>1.7</td>\n",
       "      <td>0.3</td>\n",
       "      <td>Active</td>\n",
       "    </tr>\n",
       "    <tr>\n",
       "      <th>3</th>\n",
       "      <td>Ashley Hensley</td>\n",
       "      <td>1981-12-01</td>\n",
       "      <td>43</td>\n",
       "      <td>Nurse, children's</td>\n",
       "      <td>0</td>\n",
       "      <td>54</td>\n",
       "      <td>103</td>\n",
       "      <td>2.1</td>\n",
       "      <td>1.6</td>\n",
       "      <td>4</td>\n",
       "      <td>2.1</td>\n",
       "      <td>0.0</td>\n",
       "      <td>Active</td>\n",
       "    </tr>\n",
       "    <tr>\n",
       "      <th>4</th>\n",
       "      <td>Robert Wilson</td>\n",
       "      <td>1964-06-23</td>\n",
       "      <td>46</td>\n",
       "      <td>Clinical embryologist</td>\n",
       "      <td>0</td>\n",
       "      <td>61</td>\n",
       "      <td>138</td>\n",
       "      <td>2.8</td>\n",
       "      <td>2.1</td>\n",
       "      <td>5</td>\n",
       "      <td>2.8</td>\n",
       "      <td>0.0</td>\n",
       "      <td>Active</td>\n",
       "    </tr>\n",
       "    <tr>\n",
       "      <th>5</th>\n",
       "      <td>Leslie Diaz</td>\n",
       "      <td>1994-08-25</td>\n",
       "      <td>48</td>\n",
       "      <td>Politician's assistant</td>\n",
       "      <td>0</td>\n",
       "      <td>59</td>\n",
       "      <td>122</td>\n",
       "      <td>2.8</td>\n",
       "      <td>1.4</td>\n",
       "      <td>4</td>\n",
       "      <td>2.6</td>\n",
       "      <td>0.2</td>\n",
       "      <td>Active</td>\n",
       "    </tr>\n",
       "    <tr>\n",
       "      <th>6</th>\n",
       "      <td>Frank Zimmerman</td>\n",
       "      <td>1981-03-04</td>\n",
       "      <td>54</td>\n",
       "      <td>Police officer</td>\n",
       "      <td>0</td>\n",
       "      <td>60</td>\n",
       "      <td>129</td>\n",
       "      <td>2.9</td>\n",
       "      <td>2.4</td>\n",
       "      <td>1</td>\n",
       "      <td>2.6</td>\n",
       "      <td>0.3</td>\n",
       "      <td>Active</td>\n",
       "    </tr>\n",
       "    <tr>\n",
       "      <th>7</th>\n",
       "      <td>Aaron Harris</td>\n",
       "      <td>1948-01-10</td>\n",
       "      <td>58</td>\n",
       "      <td>Nurse, children's</td>\n",
       "      <td>0</td>\n",
       "      <td>61</td>\n",
       "      <td>131</td>\n",
       "      <td>3.1</td>\n",
       "      <td>2.2</td>\n",
       "      <td>1</td>\n",
       "      <td>2.9</td>\n",
       "      <td>0.2</td>\n",
       "      <td>Active</td>\n",
       "    </tr>\n",
       "    <tr>\n",
       "      <th>8</th>\n",
       "      <td>William Smith</td>\n",
       "      <td>1998-11-20</td>\n",
       "      <td>44</td>\n",
       "      <td>Scientific laboratory technician</td>\n",
       "      <td>0</td>\n",
       "      <td>58</td>\n",
       "      <td>111</td>\n",
       "      <td>3.1</td>\n",
       "      <td>2.4</td>\n",
       "      <td>1</td>\n",
       "      <td>2.8</td>\n",
       "      <td>0.3</td>\n",
       "      <td>Control</td>\n",
       "    </tr>\n",
       "    <tr>\n",
       "      <th>9</th>\n",
       "      <td>Andrea Fletcher</td>\n",
       "      <td>1955-12-23</td>\n",
       "      <td>31</td>\n",
       "      <td>Lexicographer</td>\n",
       "      <td>0</td>\n",
       "      <td>59</td>\n",
       "      <td>122</td>\n",
       "      <td>3.2</td>\n",
       "      <td>1.7</td>\n",
       "      <td>5</td>\n",
       "      <td>2.8</td>\n",
       "      <td>0.4</td>\n",
       "      <td>Active</td>\n",
       "    </tr>\n",
       "    <tr>\n",
       "      <th>10</th>\n",
       "      <td>James Wells</td>\n",
       "      <td>1998-08-09</td>\n",
       "      <td>45</td>\n",
       "      <td>Charity fundraiser</td>\n",
       "      <td>0</td>\n",
       "      <td>62</td>\n",
       "      <td>121</td>\n",
       "      <td>3.2</td>\n",
       "      <td>1.7</td>\n",
       "      <td>4</td>\n",
       "      <td>2.7</td>\n",
       "      <td>0.5</td>\n",
       "      <td>Active</td>\n",
       "    </tr>\n",
       "    <tr>\n",
       "      <th>11</th>\n",
       "      <td>Lisa Perez</td>\n",
       "      <td>1983-09-05</td>\n",
       "      <td>35</td>\n",
       "      <td>Chief Marketing Officer</td>\n",
       "      <td>0</td>\n",
       "      <td>61</td>\n",
       "      <td>119</td>\n",
       "      <td>3.3</td>\n",
       "      <td>2.0</td>\n",
       "      <td>3</td>\n",
       "      <td>2.9</td>\n",
       "      <td>0.4</td>\n",
       "      <td>Active</td>\n",
       "    </tr>\n",
       "    <tr>\n",
       "      <th>12</th>\n",
       "      <td>Desiree Sandoval</td>\n",
       "      <td>1981-11-08</td>\n",
       "      <td>49</td>\n",
       "      <td>Hydrologist</td>\n",
       "      <td>0</td>\n",
       "      <td>61</td>\n",
       "      <td>135</td>\n",
       "      <td>3.3</td>\n",
       "      <td>2.3</td>\n",
       "      <td>5</td>\n",
       "      <td>3.1</td>\n",
       "      <td>0.2</td>\n",
       "      <td>Active</td>\n",
       "    </tr>\n",
       "    <tr>\n",
       "      <th>13</th>\n",
       "      <td>Karen Knight</td>\n",
       "      <td>1941-06-14</td>\n",
       "      <td>56</td>\n",
       "      <td>Advertising account planner</td>\n",
       "      <td>0</td>\n",
       "      <td>62</td>\n",
       "      <td>134</td>\n",
       "      <td>3.4</td>\n",
       "      <td>2.1</td>\n",
       "      <td>2</td>\n",
       "      <td>3.3</td>\n",
       "      <td>0.1</td>\n",
       "      <td>Control</td>\n",
       "    </tr>\n",
       "    <tr>\n",
       "      <th>14</th>\n",
       "      <td>Evan Stewart</td>\n",
       "      <td>1934-12-22</td>\n",
       "      <td>57</td>\n",
       "      <td>Web designer</td>\n",
       "      <td>0</td>\n",
       "      <td>75</td>\n",
       "      <td>162</td>\n",
       "      <td>3.5</td>\n",
       "      <td>2.4</td>\n",
       "      <td>3</td>\n",
       "      <td>3.4</td>\n",
       "      <td>0.1</td>\n",
       "      <td>Active</td>\n",
       "    </tr>\n",
       "    <tr>\n",
       "      <th>15</th>\n",
       "      <td>Mark Johnson</td>\n",
       "      <td>1958-11-22</td>\n",
       "      <td>38</td>\n",
       "      <td>Lobbyist</td>\n",
       "      <td>2</td>\n",
       "      <td>62</td>\n",
       "      <td>140</td>\n",
       "      <td>3.5</td>\n",
       "      <td>2.6</td>\n",
       "      <td>1</td>\n",
       "      <td>2.9</td>\n",
       "      <td>0.6</td>\n",
       "      <td>Active</td>\n",
       "    </tr>\n",
       "    <tr>\n",
       "      <th>16</th>\n",
       "      <td>Roger Chen</td>\n",
       "      <td>1985-11-19</td>\n",
       "      <td>35</td>\n",
       "      <td>Photographer</td>\n",
       "      <td>0</td>\n",
       "      <td>59</td>\n",
       "      <td>121</td>\n",
       "      <td>3.5</td>\n",
       "      <td>2.3</td>\n",
       "      <td>2</td>\n",
       "      <td>3.4</td>\n",
       "      <td>0.1</td>\n",
       "      <td>Control</td>\n",
       "    </tr>\n",
       "    <tr>\n",
       "      <th>17</th>\n",
       "      <td>Dennis Sanchez</td>\n",
       "      <td>1945-10-25</td>\n",
       "      <td>50</td>\n",
       "      <td>Chartered loss adjuster</td>\n",
       "      <td>0</td>\n",
       "      <td>63</td>\n",
       "      <td>129</td>\n",
       "      <td>3.5</td>\n",
       "      <td>2.5</td>\n",
       "      <td>1</td>\n",
       "      <td>3.5</td>\n",
       "      <td>0.0</td>\n",
       "      <td>Active</td>\n",
       "    </tr>\n",
       "    <tr>\n",
       "      <th>18</th>\n",
       "      <td>Eric Hendrix</td>\n",
       "      <td>1969-05-04</td>\n",
       "      <td>45</td>\n",
       "      <td>Community education officer</td>\n",
       "      <td>2</td>\n",
       "      <td>61</td>\n",
       "      <td>138</td>\n",
       "      <td>3.6</td>\n",
       "      <td>2.3</td>\n",
       "      <td>1</td>\n",
       "      <td>3.2</td>\n",
       "      <td>0.4</td>\n",
       "      <td>Control</td>\n",
       "    </tr>\n",
       "    <tr>\n",
       "      <th>19</th>\n",
       "      <td>Kathleen Burnett</td>\n",
       "      <td>1970-03-23</td>\n",
       "      <td>49</td>\n",
       "      <td>Occupational hygienist</td>\n",
       "      <td>0</td>\n",
       "      <td>64</td>\n",
       "      <td>144</td>\n",
       "      <td>3.7</td>\n",
       "      <td>2.2</td>\n",
       "      <td>1</td>\n",
       "      <td>3.7</td>\n",
       "      <td>0.0</td>\n",
       "      <td>Active</td>\n",
       "    </tr>\n",
       "  </tbody>\n",
       "</table>\n",
       "</div>"
      ],
      "text/plain": [
       "                 Name         DOB  Age                          Vocation  \\\n",
       "0        Dylan Patton  1981-10-07   43                    Energy manager   \n",
       "1       Sandra Howard  1993-01-27   53                       Tax adviser   \n",
       "2   Samantha Williams  1973-12-21   33                     IT consultant   \n",
       "3      Ashley Hensley  1981-12-01   43                 Nurse, children's   \n",
       "4       Robert Wilson  1964-06-23   46             Clinical embryologist   \n",
       "5         Leslie Diaz  1994-08-25   48            Politician's assistant   \n",
       "6     Frank Zimmerman  1981-03-04   54                    Police officer   \n",
       "7        Aaron Harris  1948-01-10   58                 Nurse, children's   \n",
       "8       William Smith  1998-11-20   44  Scientific laboratory technician   \n",
       "9     Andrea Fletcher  1955-12-23   31                     Lexicographer   \n",
       "10        James Wells  1998-08-09   45                Charity fundraiser   \n",
       "11         Lisa Perez  1983-09-05   35           Chief Marketing Officer   \n",
       "12   Desiree Sandoval  1981-11-08   49                       Hydrologist   \n",
       "13       Karen Knight  1941-06-14   56       Advertising account planner   \n",
       "14       Evan Stewart  1934-12-22   57                      Web designer   \n",
       "15       Mark Johnson  1958-11-22   38                          Lobbyist   \n",
       "16         Roger Chen  1985-11-19   35                      Photographer   \n",
       "17     Dennis Sanchez  1945-10-25   50           Chartered loss adjuster   \n",
       "18       Eric Hendrix  1969-05-04   45       Community education officer   \n",
       "19   Kathleen Burnett  1970-03-23   49            Occupational hygienist   \n",
       "\n",
       "    Smoke  HR  sBP  CholesterolBefore  TAG  Survey  CholesterolAfter  Delta  \\\n",
       "0       0  47  145                1.2  1.2       1               0.7    0.5   \n",
       "1       0  51  115                1.2  0.6       3               1.0    0.2   \n",
       "2       0  54  120                2.0  1.3       3               1.7    0.3   \n",
       "3       0  54  103                2.1  1.6       4               2.1    0.0   \n",
       "4       0  61  138                2.8  2.1       5               2.8    0.0   \n",
       "5       0  59  122                2.8  1.4       4               2.6    0.2   \n",
       "6       0  60  129                2.9  2.4       1               2.6    0.3   \n",
       "7       0  61  131                3.1  2.2       1               2.9    0.2   \n",
       "8       0  58  111                3.1  2.4       1               2.8    0.3   \n",
       "9       0  59  122                3.2  1.7       5               2.8    0.4   \n",
       "10      0  62  121                3.2  1.7       4               2.7    0.5   \n",
       "11      0  61  119                3.3  2.0       3               2.9    0.4   \n",
       "12      0  61  135                3.3  2.3       5               3.1    0.2   \n",
       "13      0  62  134                3.4  2.1       2               3.3    0.1   \n",
       "14      0  75  162                3.5  2.4       3               3.4    0.1   \n",
       "15      2  62  140                3.5  2.6       1               2.9    0.6   \n",
       "16      0  59  121                3.5  2.3       2               3.4    0.1   \n",
       "17      0  63  129                3.5  2.5       1               3.5    0.0   \n",
       "18      2  61  138                3.6  2.3       1               3.2    0.4   \n",
       "19      0  64  144                3.7  2.2       1               3.7    0.0   \n",
       "\n",
       "      Group  \n",
       "0    Active  \n",
       "1    Active  \n",
       "2    Active  \n",
       "3    Active  \n",
       "4    Active  \n",
       "5    Active  \n",
       "6    Active  \n",
       "7    Active  \n",
       "8   Control  \n",
       "9    Active  \n",
       "10   Active  \n",
       "11   Active  \n",
       "12   Active  \n",
       "13  Control  \n",
       "14   Active  \n",
       "15   Active  \n",
       "16  Control  \n",
       "17   Active  \n",
       "18  Control  \n",
       "19   Active  "
      ]
     },
     "execution_count": 42,
     "metadata": {},
     "output_type": "execute_result"
    }
   ],
   "source": [
    "df.iloc[:20]"
   ]
  },
  {
   "cell_type": "code",
   "execution_count": 51,
   "metadata": {},
   "outputs": [
    {
     "data": {
      "text/html": [
       "<div>\n",
       "<style scoped>\n",
       "    .dataframe tbody tr th:only-of-type {\n",
       "        vertical-align: middle;\n",
       "    }\n",
       "\n",
       "    .dataframe tbody tr th {\n",
       "        vertical-align: top;\n",
       "    }\n",
       "\n",
       "    .dataframe thead th {\n",
       "        text-align: right;\n",
       "    }\n",
       "</style>\n",
       "<table border=\"1\" class=\"dataframe\">\n",
       "  <thead>\n",
       "    <tr style=\"text-align: right;\">\n",
       "      <th></th>\n",
       "      <th>Name</th>\n",
       "      <th>Vocation</th>\n",
       "    </tr>\n",
       "  </thead>\n",
       "  <tbody>\n",
       "    <tr>\n",
       "      <th>0</th>\n",
       "      <td>Dylan Patton</td>\n",
       "      <td>Energy manager</td>\n",
       "    </tr>\n",
       "    <tr>\n",
       "      <th>1</th>\n",
       "      <td>Sandra Howard</td>\n",
       "      <td>Tax adviser</td>\n",
       "    </tr>\n",
       "    <tr>\n",
       "      <th>2</th>\n",
       "      <td>Samantha Williams</td>\n",
       "      <td>IT consultant</td>\n",
       "    </tr>\n",
       "    <tr>\n",
       "      <th>3</th>\n",
       "      <td>Ashley Hensley</td>\n",
       "      <td>Nurse, children's</td>\n",
       "    </tr>\n",
       "    <tr>\n",
       "      <th>4</th>\n",
       "      <td>Robert Wilson</td>\n",
       "      <td>Clinical embryologist</td>\n",
       "    </tr>\n",
       "  </tbody>\n",
       "</table>\n",
       "</div>"
      ],
      "text/plain": [
       "                Name               Vocation\n",
       "0       Dylan Patton         Energy manager\n",
       "1      Sandra Howard            Tax adviser\n",
       "2  Samantha Williams          IT consultant\n",
       "3     Ashley Hensley      Nurse, children's\n",
       "4      Robert Wilson  Clinical embryologist"
      ]
     },
     "execution_count": 51,
     "metadata": {},
     "output_type": "execute_result"
    }
   ],
   "source": [
    "df.iloc[:5, [0, 3]]"
   ]
  },
  {
   "cell_type": "code",
   "execution_count": 52,
   "metadata": {},
   "outputs": [
    {
     "data": {
      "text/plain": [
       "array([0, 2, 1])"
      ]
     },
     "execution_count": 52,
     "metadata": {},
     "output_type": "execute_result"
    }
   ],
   "source": [
    "# when you want to filter data\n",
    "# use the \"unique\" function to find all the values that are in a specic column\n",
    "df.Smoke.unique()"
   ]
  },
  {
   "cell_type": "code",
   "execution_count": 53,
   "metadata": {},
   "outputs": [
    {
     "data": {
      "text/plain": [
       "array([43, 53, 33, 43, 46, 48, 54, 58, 44, 31, 45, 35, 49, 56, 57, 35, 50,\n",
       "       49, 63, 45, 51, 40, 47, 41, 47, 38, 54, 30, 46, 64, 40, 45, 65, 55,\n",
       "       53, 54, 72, 32, 38, 59, 53, 42, 38, 51, 37, 36, 48, 49, 62, 39, 74,\n",
       "       42, 72, 61, 33, 30, 44, 71, 49, 75, 43, 55, 38, 36, 46, 60, 57, 69,\n",
       "       56, 66, 60, 42, 32, 31, 56, 35, 63, 54, 68, 72, 40, 54, 62, 74, 62,\n",
       "       41, 61, 61])"
      ]
     },
     "execution_count": 53,
     "metadata": {},
     "output_type": "execute_result"
    }
   ],
   "source": [
    "age_nonsmokers = df.loc[df.Smoke == 0]['Age'].to_numpy()\n",
    "age_nonsmokers"
   ]
  },
  {
   "cell_type": "markdown",
   "metadata": {},
   "source": []
  },
  {
   "cell_type": "code",
   "execution_count": 54,
   "metadata": {},
   "outputs": [
    {
     "data": {
      "text/plain": [
       "array([38, 45, 43, 31, 58, 45, 74, 58, 67, 60, 49, 71, 60, 49, 35, 40, 49,\n",
       "       68, 36, 72, 54, 63, 55, 61, 71, 45, 35])"
      ]
     },
     "execution_count": 54,
     "metadata": {},
     "output_type": "execute_result"
    }
   ],
   "source": [
    "age_smokers = df.loc[df.Smoke == 2]['Age'].to_numpy()\n",
    "age_smokers"
   ]
  },
  {
   "cell_type": "code",
   "execution_count": 56,
   "metadata": {},
   "outputs": [
    {
     "name": "stdout",
     "output_type": "stream",
     "text": [
      "50.09090909090909\n",
      "53.03703703703704\n"
     ]
    }
   ],
   "source": [
    "print(age_nonsmokers.mean())\n",
    "print(age_smokers.mean())"
   ]
  }
 ],
 "metadata": {
  "kernelspec": {
   "display_name": "HealthDataScience",
   "language": "python",
   "name": "python3"
  },
  "language_info": {
   "codemirror_mode": {
    "name": "ipython",
    "version": 3
   },
   "file_extension": ".py",
   "mimetype": "text/x-python",
   "name": "python",
   "nbconvert_exporter": "python",
   "pygments_lexer": "ipython3",
   "version": "3.11.8"
  }
 },
 "nbformat": 4,
 "nbformat_minor": 2
}
